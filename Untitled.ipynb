{
 "cells": [
  {
   "cell_type": "code",
   "execution_count": 1,
   "id": "7dfb29d0",
   "metadata": {},
   "outputs": [],
   "source": [
    "import pandas as pd\n",
    "import numpy as np"
   ]
  },
  {
   "cell_type": "code",
   "execution_count": 2,
   "id": "71868a33",
   "metadata": {},
   "outputs": [
    {
     "data": {
      "text/html": [
       "<div>\n",
       "<style scoped>\n",
       "    .dataframe tbody tr th:only-of-type {\n",
       "        vertical-align: middle;\n",
       "    }\n",
       "\n",
       "    .dataframe tbody tr th {\n",
       "        vertical-align: top;\n",
       "    }\n",
       "\n",
       "    .dataframe thead th {\n",
       "        text-align: right;\n",
       "    }\n",
       "</style>\n",
       "<table border=\"1\" class=\"dataframe\">\n",
       "  <thead>\n",
       "    <tr style=\"text-align: right;\">\n",
       "      <th></th>\n",
       "      <th>Incident_Radiation</th>\n",
       "      <th>Inlet_Water_Temperature</th>\n",
       "      <th>Temperature(LCZ)</th>\n",
       "      <th>Ambient_Temperature</th>\n",
       "      <th>Outlet_Temperature</th>\n",
       "    </tr>\n",
       "  </thead>\n",
       "  <tbody>\n",
       "    <tr>\n",
       "      <th>0</th>\n",
       "      <td>210</td>\n",
       "      <td>28.0</td>\n",
       "      <td>28</td>\n",
       "      <td>29</td>\n",
       "      <td>28.0</td>\n",
       "    </tr>\n",
       "    <tr>\n",
       "      <th>1</th>\n",
       "      <td>280</td>\n",
       "      <td>28.0</td>\n",
       "      <td>28</td>\n",
       "      <td>29</td>\n",
       "      <td>28.0</td>\n",
       "    </tr>\n",
       "    <tr>\n",
       "      <th>2</th>\n",
       "      <td>300</td>\n",
       "      <td>28.0</td>\n",
       "      <td>28</td>\n",
       "      <td>29</td>\n",
       "      <td>28.0</td>\n",
       "    </tr>\n",
       "    <tr>\n",
       "      <th>3</th>\n",
       "      <td>300</td>\n",
       "      <td>32.0</td>\n",
       "      <td>32</td>\n",
       "      <td>31</td>\n",
       "      <td>32.0</td>\n",
       "    </tr>\n",
       "    <tr>\n",
       "      <th>4</th>\n",
       "      <td>320</td>\n",
       "      <td>29.0</td>\n",
       "      <td>29</td>\n",
       "      <td>30</td>\n",
       "      <td>29.2</td>\n",
       "    </tr>\n",
       "  </tbody>\n",
       "</table>\n",
       "</div>"
      ],
      "text/plain": [
       "   Incident_Radiation  Inlet_Water_Temperature  Temperature(LCZ)  \\\n",
       "0                 210                     28.0                28   \n",
       "1                 280                     28.0                28   \n",
       "2                 300                     28.0                28   \n",
       "3                 300                     32.0                32   \n",
       "4                 320                     29.0                29   \n",
       "\n",
       "   Ambient_Temperature  Outlet_Temperature  \n",
       "0                   29                28.0  \n",
       "1                   29                28.0  \n",
       "2                   29                28.0  \n",
       "3                   31                32.0  \n",
       "4                   30                29.2  "
      ]
     },
     "execution_count": 2,
     "metadata": {},
     "output_type": "execute_result"
    }
   ],
   "source": [
    "df = pd.read_csv(\"Solar-Pond-Performance-Data - Sheet1.csv\")\n",
    "df.head()"
   ]
  },
  {
   "cell_type": "markdown",
   "id": "787c322f",
   "metadata": {},
   "source": [
    "## EDA-Exploratory Data Analysis\n"
   ]
  },
  {
   "cell_type": "code",
   "execution_count": 4,
   "id": "90c065fb",
   "metadata": {},
   "outputs": [
    {
     "data": {
      "text/plain": [
       "(25, 5)"
      ]
     },
     "execution_count": 4,
     "metadata": {},
     "output_type": "execute_result"
    }
   ],
   "source": [
    "df.shape"
   ]
  },
  {
   "cell_type": "code",
   "execution_count": 5,
   "id": "243613b5",
   "metadata": {},
   "outputs": [
    {
     "data": {
      "text/plain": [
       "Incident_Radiation         0\n",
       "Inlet_Water_Temperature    0\n",
       "Temperature(LCZ)           0\n",
       "Ambient_Temperature        0\n",
       "Outlet_Temperature         0\n",
       "dtype: int64"
      ]
     },
     "execution_count": 5,
     "metadata": {},
     "output_type": "execute_result"
    }
   ],
   "source": [
    "df.isnull().sum()"
   ]
  },
  {
   "cell_type": "code",
   "execution_count": 7,
   "id": "e5929123",
   "metadata": {},
   "outputs": [
    {
     "data": {
      "text/html": [
       "<div>\n",
       "<style scoped>\n",
       "    .dataframe tbody tr th:only-of-type {\n",
       "        vertical-align: middle;\n",
       "    }\n",
       "\n",
       "    .dataframe tbody tr th {\n",
       "        vertical-align: top;\n",
       "    }\n",
       "\n",
       "    .dataframe thead th {\n",
       "        text-align: right;\n",
       "    }\n",
       "</style>\n",
       "<table border=\"1\" class=\"dataframe\">\n",
       "  <thead>\n",
       "    <tr style=\"text-align: right;\">\n",
       "      <th></th>\n",
       "      <th>Incident_Radiation</th>\n",
       "      <th>Inlet_Water_Temperature</th>\n",
       "      <th>Temperature(LCZ)</th>\n",
       "      <th>Ambient_Temperature</th>\n",
       "      <th>Outlet_Temperature</th>\n",
       "    </tr>\n",
       "  </thead>\n",
       "  <tbody>\n",
       "    <tr>\n",
       "      <th>count</th>\n",
       "      <td>25.00000</td>\n",
       "      <td>25.000000</td>\n",
       "      <td>25.000000</td>\n",
       "      <td>25.000000</td>\n",
       "      <td>25.000000</td>\n",
       "    </tr>\n",
       "    <tr>\n",
       "      <th>mean</th>\n",
       "      <td>585.20000</td>\n",
       "      <td>31.116000</td>\n",
       "      <td>37.760000</td>\n",
       "      <td>32.360000</td>\n",
       "      <td>33.452000</td>\n",
       "    </tr>\n",
       "    <tr>\n",
       "      <th>std</th>\n",
       "      <td>234.25627</td>\n",
       "      <td>2.096362</td>\n",
       "      <td>6.747098</td>\n",
       "      <td>2.325224</td>\n",
       "      <td>3.405892</td>\n",
       "    </tr>\n",
       "    <tr>\n",
       "      <th>min</th>\n",
       "      <td>210.00000</td>\n",
       "      <td>28.000000</td>\n",
       "      <td>28.000000</td>\n",
       "      <td>29.000000</td>\n",
       "      <td>28.000000</td>\n",
       "    </tr>\n",
       "    <tr>\n",
       "      <th>25%</th>\n",
       "      <td>360.00000</td>\n",
       "      <td>29.000000</td>\n",
       "      <td>32.000000</td>\n",
       "      <td>30.000000</td>\n",
       "      <td>31.100000</td>\n",
       "    </tr>\n",
       "    <tr>\n",
       "      <th>50%</th>\n",
       "      <td>560.00000</td>\n",
       "      <td>32.000000</td>\n",
       "      <td>37.000000</td>\n",
       "      <td>32.000000</td>\n",
       "      <td>33.600000</td>\n",
       "    </tr>\n",
       "    <tr>\n",
       "      <th>75%</th>\n",
       "      <td>790.00000</td>\n",
       "      <td>33.000000</td>\n",
       "      <td>43.000000</td>\n",
       "      <td>34.000000</td>\n",
       "      <td>36.000000</td>\n",
       "    </tr>\n",
       "    <tr>\n",
       "      <th>max</th>\n",
       "      <td>970.00000</td>\n",
       "      <td>34.400000</td>\n",
       "      <td>50.000000</td>\n",
       "      <td>36.000000</td>\n",
       "      <td>39.500000</td>\n",
       "    </tr>\n",
       "  </tbody>\n",
       "</table>\n",
       "</div>"
      ],
      "text/plain": [
       "       Incident_Radiation  Inlet_Water_Temperature  Temperature(LCZ)  \\\n",
       "count            25.00000                25.000000         25.000000   \n",
       "mean            585.20000                31.116000         37.760000   \n",
       "std             234.25627                 2.096362          6.747098   \n",
       "min             210.00000                28.000000         28.000000   \n",
       "25%             360.00000                29.000000         32.000000   \n",
       "50%             560.00000                32.000000         37.000000   \n",
       "75%             790.00000                33.000000         43.000000   \n",
       "max             970.00000                34.400000         50.000000   \n",
       "\n",
       "       Ambient_Temperature  Outlet_Temperature  \n",
       "count            25.000000           25.000000  \n",
       "mean             32.360000           33.452000  \n",
       "std               2.325224            3.405892  \n",
       "min              29.000000           28.000000  \n",
       "25%              30.000000           31.100000  \n",
       "50%              32.000000           33.600000  \n",
       "75%              34.000000           36.000000  \n",
       "max              36.000000           39.500000  "
      ]
     },
     "execution_count": 7,
     "metadata": {},
     "output_type": "execute_result"
    }
   ],
   "source": [
    "df.describe()"
   ]
  },
  {
   "cell_type": "code",
   "execution_count": 10,
   "id": "fa0eabcf",
   "metadata": {},
   "outputs": [],
   "source": [
    "import matplotlib.pyplot as plt"
   ]
  },
  {
   "cell_type": "code",
   "execution_count": 11,
   "id": "8f4dcfd0",
   "metadata": {},
   "outputs": [
    {
     "data": {
      "image/png": "[encoded data removed]",
      "text/plain": [
       "<Figure size 720x720 with 2 Axes>"
      ]
     },
     "metadata": {
      "needs_background": "light"
     },
     "output_type": "display_data"
    }
   ],
   "source": [
    "plt.figure(figsize=(10,10))\n",
    "corrmat = df.corr()\n",
    "top_feat = corrmat.index\n",
    "g=sns.heatmap(df[top_feat].corr(),annot=True,cmap=\"RdYlGn\")"
   ]
  },
  {
   "cell_type": "markdown",
   "id": "cbffa279",
   "metadata": {},
   "source": [
    "## Graphs"
   ]
  },
  {
   "cell_type": "code",
   "execution_count": 19,
   "id": "07024bdd",
   "metadata": {},
   "outputs": [
    {
     "data": {
      "image/png": "[encoded data removed]",
      "text/plain": [
       "<Figure size 432x288 with 1 Axes>"
      ]
     },
     "metadata": {
      "needs_background": "light"
     },
     "output_type": "display_data"
    },
    {
     "data": {
      "image/png": "[encoded data removed]",
      "text/plain": [
       "<Figure size 432x288 with 1 Axes>"
      ]
     },
     "metadata": {
      "needs_background": "light"
     },
     "output_type": "display_data"
    },
    {
     "data": {
      "image/png": "[encoded data removed]",
      "text/plain": [
       "<Figure size 432x288 with 1 Axes>"
      ]
     },
     "metadata": {
      "needs_background": "light"
     },
     "output_type": "display_data"
    },
    {
     "data": {
      "image/png": "[encoded data removed]",
      "text/plain": [
       "<Figure size 432x288 with 1 Axes>"
      ]
     },
     "metadata": {
      "needs_background": "light"
     },
     "output_type": "display_data"
    }
   ],
   "source": [
    "sns.scatterplot(x=\"Incident_Radiation\",y=df['Outlet_Temperature'],data=df)\n",
    "plt.show()\n",
    "sns.scatterplot(x=\"Inlet_Water_Temperature\",y=df['Outlet_Temperature'],data=df)\n",
    "plt.show()\n",
    "sns.scatterplot(x=\"Temperature(LCZ)\",y=df['Outlet_Temperature'],data=df)\n",
    "plt.show()\n",
    "sns.scatterplot(x=\"Ambient_Temperature\",y=df['Outlet_Temperature'],data=df)\n",
    "plt.show()"
   ]
  },
  {
   "cell_type": "code",
   "execution_count": 20,
   "id": "847f0fd1",
   "metadata": {},
   "outputs": [
    {
     "data": {
      "text/plain": [
       "array([[210. ,  28. ,  28. ,  29. ],\n",
       "       [280. ,  28. ,  28. ,  29. ],\n",
       "       [300. ,  28. ,  28. ,  29. ],\n",
       "       [300. ,  32. ,  32. ,  31. ],\n",
       "       [320. ,  29. ,  29. ,  30. ],\n",
       "       [350. ,  32. ,  32. ,  32. ],\n",
       "       [360. ,  29. ,  32. ,  30. ],\n",
       "       [420. ,  29. ,  33. ,  30. ],\n",
       "       [460. ,  29. ,  35. ,  30. ],\n",
       "       [460. ,  32. ,  33. ,  32. ],\n",
       "       [500. ,  29. ,  37. ,  31. ],\n",
       "       [560. ,  29. ,  39. ,  31. ],\n",
       "       [560. ,  32. ,  35. ,  33. ],\n",
       "       [640. ,  30. ,  41. ,  32. ],\n",
       "       [640. ,  32.5,  37. ,  33. ],\n",
       "       [680. ,  31. ,  42. ,  33. ],\n",
       "       [700. ,  32. ,  39. ,  33. ],\n",
       "       [760. ,  33. ,  41. ,  34. ],\n",
       "       [790. ,  33. ,  43. ,  35. ],\n",
       "       [800. ,  32. ,  44. ,  34. ],\n",
       "       [850. ,  33. ,  45. ,  35. ],\n",
       "       [880. ,  33. ,  46. ,  35. ],\n",
       "       [900. ,  34. ,  47. ,  36. ],\n",
       "       [940. ,  34.4,  50. ,  36. ],\n",
       "       [970. ,  34. ,  48. ,  36. ]])"
      ]
     },
     "execution_count": 20,
     "metadata": {},
     "output_type": "execute_result"
    }
   ],
   "source": [
    "x = df.iloc[:,:4].values\n",
    "x"
   ]
  },
  {
   "cell_type": "code",
   "execution_count": 21,
   "id": "408fad14",
   "metadata": {},
   "outputs": [
    {
     "data": {
      "text/plain": [
       "array([28. , 28. , 28. , 32. , 29.2, 32.5, 30.2, 30.6, 31.1, 33. , 31.5,\n",
       "       32. , 33.7, 33.6, 34.6, 34.7, 34.8, 36. , 36.5, 36. , 37. , 37. ,\n",
       "       38.4, 39.5, 38.4])"
      ]
     },
     "execution_count": 21,
     "metadata": {},
     "output_type": "execute_result"
    }
   ],
   "source": [
    "y = df.iloc[:,-1].values\n",
    "y"
   ]
  },
  {
   "cell_type": "markdown",
   "id": "dee7bd06",
   "metadata": {},
   "source": [
    "## Split of data for training and testing"
   ]
  },
  {
   "cell_type": "code",
   "execution_count": 28,
   "id": "7e2d5c02",
   "metadata": {},
   "outputs": [],
   "source": [
    "from sklearn.model_selection import train_test_split\n",
    "x_train, x_test, y_train, y_test = train_test_split(x, y, test_size=0.2)"
   ]
  },
  {
   "cell_type": "code",
   "execution_count": 29,
   "id": "c0e95425",
   "metadata": {},
   "outputs": [
    {
     "data": {
      "text/plain": [
       "LinearRegression()"
      ]
     },
     "execution_count": 29,
     "metadata": {},
     "output_type": "execute_result"
    }
   ],
   "source": [
    "from sklearn.linear_model import LinearRegression\n",
    "model = LinearRegression()\n",
    "model.fit(x_train,y_train)"
   ]
  },
  {
   "cell_type": "code",
   "execution_count": 30,
   "id": "f0b783dd",
   "metadata": {},
   "outputs": [
    {
     "data": {
      "text/plain": [
       "0.9748018379048975"
      ]
     },
     "execution_count": 30,
     "metadata": {},
     "output_type": "execute_result"
    }
   ],
   "source": [
    "model.score(x_test,y_test)"
   ]
  },
  {
   "cell_type": "code",
   "execution_count": 33,
   "id": "18d11b1c",
   "metadata": {},
   "outputs": [
    {
     "data": {
      "text/plain": [
       "28.111312153378424"
      ]
     },
     "execution_count": 33,
     "metadata": {},
     "output_type": "execute_result"
    }
   ],
   "source": [
    "model.predict([[210,28,28,29]])[0]"
   ]
  },
  {
   "cell_type": "code",
   "execution_count": 34,
   "id": "ca9948df",
   "metadata": {},
   "outputs": [],
   "source": [
    "import pickle\n",
    "f = open(\"model.pkl\", \"wb\")\n",
    "pickle.dump(model,f)"
   ]
  },
  {
   "cell_type": "code",
   "execution_count": null,
   "id": "3611fef5",
   "metadata": {},
   "outputs": [],
   "source": []
  }
 ],
 "metadata": {
  "kernelspec": {
   "display_name": "Python 3",
   "language": "python",
   "name": "python3"
  },
  "language_info": {
   "codemirror_mode": {
    "name": "ipython",
    "version": 3
   },
   "file_extension": ".py",
   "mimetype": "text/x-python",
   "name": "python",
   "nbconvert_exporter": "python",
   "pygments_lexer": "ipython3",
   "version": "3.6.7"
  }
 },
 "nbformat": 4,
 "nbformat_minor": 5
}
